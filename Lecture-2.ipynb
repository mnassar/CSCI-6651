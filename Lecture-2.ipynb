{
 "cells": [
  {
   "cell_type": "code",
   "execution_count": 2,
   "metadata": {},
   "outputs": [
    {
     "name": "stdout",
     "output_type": "stream",
     "text": [
      "1 2.3 -1 0.6 3.141592653589793\n",
      "123134134135135315315135\n"
     ]
    }
   ],
   "source": [
    "import math\n",
    "print (1, 2.3, -1, 3/5, math.pi)\n",
    "print (123134134135135315315135) # advantage \n",
    "\n"
   ]
  },
  {
   "cell_type": "code",
   "execution_count": 4,
   "metadata": {},
   "outputs": [
    {
     "data": {
      "text/plain": [
       "False"
      ]
     },
     "execution_count": 4,
     "metadata": {},
     "output_type": "execute_result"
    }
   ],
   "source": [
    "str1 = \"Abc\"\n",
    "str2 = \"abc\"\n",
    "\n",
    "str1 == str2"
   ]
  },
  {
   "cell_type": "code",
   "execution_count": 13,
   "metadata": {},
   "outputs": [
    {
     "data": {
      "text/plain": [
       "3.141592653589793"
      ]
     },
     "execution_count": 13,
     "metadata": {},
     "output_type": "execute_result"
    }
   ],
   "source": [
    "L  = [ 1, 2, \"abc\", math.pi ]\n",
    "len(L)\n",
    "\n",
    "L[3]"
   ]
  },
  {
   "cell_type": "code",
   "execution_count": 17,
   "metadata": {},
   "outputs": [
    {
     "data": {
      "text/plain": [
       "3"
      ]
     },
     "execution_count": 17,
     "metadata": {},
     "output_type": "execute_result"
    }
   ],
   "source": [
    "d = {'a':1, 'b':2, 'c':3}\n",
    "\n",
    "d['c'] \n",
    "# given the key, the dict datastructure gives the corresponding value"
   ]
  },
  {
   "cell_type": "code",
   "execution_count": 22,
   "metadata": {},
   "outputs": [
    {
     "data": {
      "text/plain": [
       "True"
      ]
     },
     "execution_count": 22,
     "metadata": {},
     "output_type": "execute_result"
    }
   ],
   "source": [
    "# tuples\n",
    "L1 = [ 1, 2 ]\n",
    "L2 = [1, 3]\n",
    "t1 = (1, 2) # you can't change the elements later\n",
    "t2 = (1, 3)\n",
    "\n",
    "t1 < t2 \n",
    "\n",
    "L1 < L2\n"
   ]
  },
  {
   "cell_type": "code",
   "execution_count": 34,
   "metadata": {},
   "outputs": [
    {
     "data": {
      "text/plain": [
       "False"
      ]
     },
     "execution_count": 34,
     "metadata": {},
     "output_type": "execute_result"
    }
   ],
   "source": [
    "s = set([1,2,3])\n",
    "s = {1, 2, 3}\n",
    "\"abc\" in s "
   ]
  },
  {
   "cell_type": "code",
   "execution_count": 39,
   "metadata": {},
   "outputs": [
    {
     "data": {
      "text/plain": [
       "'def'"
      ]
     },
     "execution_count": 39,
     "metadata": {},
     "output_type": "execute_result"
    }
   ],
   "source": [
    "str1 = \"abc     def\" \n",
    "L = str1.split() # returns a list of substrings \n",
    "L[1]"
   ]
  },
  {
   "cell_type": "code",
   "execution_count": 44,
   "metadata": {},
   "outputs": [
    {
     "data": {
      "text/plain": [
       "True"
      ]
     },
     "execution_count": 44,
     "metadata": {},
     "output_type": "execute_result"
    }
   ],
   "source": [
    "b = True # boolean \n",
    "s = \"True\" # string\n",
    "\n",
    "(1==2) == (3>4) #\n",
    "False == False # True "
   ]
  },
  {
   "cell_type": "code",
   "execution_count": 57,
   "metadata": {},
   "outputs": [
    {
     "name": "stdout",
     "output_type": "stream",
     "text": [
      "3 1\n",
      "10 = 3.0 * 3 + 1.0\n"
     ]
    },
    {
     "ename": "TypeError",
     "evalue": "not all arguments converted during string formatting",
     "output_type": "error",
     "traceback": [
      "\u001b[0;31m---------------------------------------------------------------------------\u001b[0m",
      "\u001b[0;31mTypeError\u001b[0m                                 Traceback (most recent call last)",
      "Cell \u001b[0;32mIn[57], line 5\u001b[0m\n\u001b[1;32m      3\u001b[0m \u001b[39mprint\u001b[39m (q, r)\n\u001b[1;32m      4\u001b[0m \u001b[39mprint\u001b[39m (\u001b[39m\"\u001b[39m\u001b[39m10 = \u001b[39m\u001b[39m%.1f\u001b[39;00m\u001b[39m * 3 + \u001b[39m\u001b[39m%.1f\u001b[39;00m\u001b[39m\"\u001b[39m \u001b[39m%\u001b[39m (q, r) ) \n\u001b[0;32m----> 5\u001b[0m \u001b[39mprint\u001b[39m (\u001b[39m\"\u001b[39;49m\u001b[39m{}\u001b[39;49;00m\u001b[39m\"\u001b[39;49m \u001b[39m%\u001b[39;49m q)  \n",
      "\u001b[0;31mTypeError\u001b[0m: not all arguments converted during string formatting"
     ]
    }
   ],
   "source": [
    "q = 10 // 3\n",
    "r = 10 % 3\n",
    "print (q, r)\n",
    "print (\"10 = %.1f * 3 + %.1f\" % (q, r) ) \n",
    "# print (\"{}\" % q)  "
   ]
  },
  {
   "cell_type": "code",
   "execution_count": 58,
   "metadata": {},
   "outputs": [
    {
     "data": {
      "text/plain": [
       "'abccdf'"
      ]
     },
     "execution_count": 58,
     "metadata": {},
     "output_type": "execute_result"
    }
   ],
   "source": [
    "\"abc\" + \"cdf\""
   ]
  },
  {
   "cell_type": "code",
   "execution_count": 59,
   "metadata": {},
   "outputs": [
    {
     "data": {
      "text/plain": [
       "'abc'"
      ]
     },
     "execution_count": 59,
     "metadata": {},
     "output_type": "execute_result"
    }
   ],
   "source": [
    "# list to string \n",
    "\"\".join([\"a\", \"b\", \"c\"])"
   ]
  },
  {
   "cell_type": "code",
   "execution_count": 60,
   "metadata": {},
   "outputs": [
    {
     "data": {
      "text/plain": [
       "['a', 'b', 'c']"
      ]
     },
     "execution_count": 60,
     "metadata": {},
     "output_type": "execute_result"
    }
   ],
   "source": [
    "# string to list\n",
    "list(\"abc\")"
   ]
  },
  {
   "cell_type": "code",
   "execution_count": 62,
   "metadata": {},
   "outputs": [
    {
     "data": {
      "text/plain": [
       "'Fas'"
      ]
     },
     "execution_count": 62,
     "metadata": {},
     "output_type": "execute_result"
    }
   ],
   "source": [
    "str1 = \"FastEthernet\"\n",
    "str1 [:3]"
   ]
  },
  {
   "cell_type": "code",
   "execution_count": 64,
   "metadata": {},
   "outputs": [
    {
     "data": {
      "text/plain": [
       "'aEee'"
      ]
     },
     "execution_count": 64,
     "metadata": {},
     "output_type": "execute_result"
    }
   ],
   "source": [
    "str1[1::3] # start:end:step"
   ]
  },
  {
   "cell_type": "code",
   "execution_count": 65,
   "metadata": {},
   "outputs": [
    {
     "data": {
      "text/plain": [
       "'FsEhre'"
      ]
     },
     "execution_count": 65,
     "metadata": {},
     "output_type": "execute_result"
    }
   ],
   "source": [
    "str1[::2]"
   ]
  },
  {
   "cell_type": "code",
   "execution_count": 67,
   "metadata": {},
   "outputs": [
    {
     "data": {
      "text/plain": [
       "'tenrehtEtsaF'"
      ]
     },
     "execution_count": 67,
     "metadata": {},
     "output_type": "execute_result"
    }
   ],
   "source": [
    "str1[::-1]"
   ]
  },
  {
   "cell_type": "code",
   "execution_count": 68,
   "metadata": {},
   "outputs": [
    {
     "data": {
      "text/plain": [
       "12"
      ]
     },
     "execution_count": 68,
     "metadata": {},
     "output_type": "execute_result"
    }
   ],
   "source": [
    "len(str1)"
   ]
  },
  {
   "cell_type": "code",
   "execution_count": 76,
   "metadata": {},
   "outputs": [
    {
     "name": "stdout",
     "output_type": "stream",
     "text": [
      " aa afadf      adfadf        \t \t \t \n",
      " \n",
      " #\n"
     ]
    },
    {
     "data": {
      "text/plain": [
       "['aa', 'afadf', 'adfadf']"
      ]
     },
     "execution_count": 76,
     "metadata": {},
     "output_type": "execute_result"
    }
   ],
   "source": [
    "str1 = \" aa afadf      adfadf        \\t \\t \\t \\n \\n \\r\"\n",
    "print(str1, '#')\n",
    "str1.strip().split()"
   ]
  },
  {
   "cell_type": "code",
   "execution_count": 86,
   "metadata": {},
   "outputs": [
    {
     "data": {
      "text/plain": [
       "'10 = 3.0 * 3 + 1.0'"
      ]
     },
     "execution_count": 86,
     "metadata": {},
     "output_type": "execute_result"
    }
   ],
   "source": [
    "\"10 = {:.1f} * 3 + {:.1f}\".format(q, r) # modern way \n",
    "print (\"10 = %.1f * 3 + %.1f\" % (q, r) ) \n",
    "# modern python formatting"
   ]
  },
  {
   "cell_type": "code",
   "execution_count": 90,
   "metadata": {},
   "outputs": [
    {
     "data": {
      "text/plain": [
       "'3 3 1 3'"
      ]
     },
     "execution_count": 90,
     "metadata": {},
     "output_type": "execute_result"
    }
   ],
   "source": [
    "a = 3 \n",
    "b = 1\n",
    "f\"{a} {a} {b} {a}\""
   ]
  },
  {
   "cell_type": "code",
   "execution_count": 95,
   "metadata": {},
   "outputs": [
    {
     "name": "stdout",
     "output_type": "stream",
     "text": [
      "[1, 2, 3, 4, 10, 20, 30, 100]\n"
     ]
    }
   ],
   "source": [
    "# Task 4.4 \n",
    "vlans = [10, 20, 30, 1, 2, 100, 10, 30, 3, 4, 10]\n",
    "\n",
    "result = sorted (  set (vlans)  ) \n",
    "print (result)"
   ]
  },
  {
   "cell_type": "code",
   "execution_count": 145,
   "metadata": {},
   "outputs": [
    {
     "name": "stdout",
     "output_type": "stream",
     "text": [
      "Prefix  10.0.24.0/24\n",
      "AD/Metric      110/41\n",
      "Next-Hop   10.0.13.3\n",
      "Last update       3d18h\n",
      "OutboundInterface FastEthernet0/0\n"
     ]
    }
   ],
   "source": [
    "# task 4.6\n",
    "ospf_route = \" 10.0.24.0/24 [110/41] via 10.0.13.3, 3d18h, FastEthernet0/0\"\n",
    "tokens = ospf_route.split()\n",
    "# print (tokens)\n",
    "Prefix = tokens[0]\n",
    "# print (Prefix)\n",
    "Metric = tokens[1].strip(\"[]\")\n",
    "# print (Metric)\n",
    "NextHop = tokens[3].strip(\",\")\n",
    "# print (NextHop)\n",
    "LastUpdate = tokens[4].strip(\",\")\n",
    "# print(LastUpdate)\n",
    "OutboundInterface = tokens[5]\n",
    "# print(OutboundInterface)\n",
    "print (\"Prefix  {:>10}\".format(Prefix) )\n",
    "print (\"AD/Metric  {:>10}\".format( Metric) ) \n",
    "print (\"Next-Hop  {:>10}\".format(NextHop)  )\n",
    "print (\"Last update  {:>10}\".format(LastUpdate) ) \n",
    "print (\"OutboundInterface {:>10}\".format( OutboundInterface) ) \n"
   ]
  },
  {
   "cell_type": "code",
   "execution_count": 144,
   "metadata": {},
   "outputs": [
    {
     "data": {
      "text/plain": [
       "'3.141592653589793'"
      ]
     },
     "execution_count": 144,
     "metadata": {},
     "output_type": "execute_result"
    }
   ],
   "source": [
    "import math\n",
    "\"{:.2f}\".format( math.pi ) \n",
    "pi = math.pi\n",
    "f\"{pi}\"\n"
   ]
  },
  {
   "cell_type": "code",
   "execution_count": 154,
   "metadata": {},
   "outputs": [
    {
     "name": "stdout",
     "output_type": "stream",
     "text": [
      "AAAABBBBCCCC\n"
     ]
    },
    {
     "data": {
      "text/plain": [
       "'101010101010101010111011101110111100110011001100'"
      ]
     },
     "execution_count": 154,
     "metadata": {},
     "output_type": "execute_result"
    }
   ],
   "source": [
    "mac = \"AAAA:BBBB:CCCC\" # A : 1010 # B: 1011 # C : 1100 \n",
    "mac1 = mac.replace(\":\", \"\")\n",
    "\n",
    "print (mac1)\n",
    "\n",
    "\"\".join( bin(int(x,16))[2:] for x in mac1 ) \n"
   ]
  },
  {
   "cell_type": "code",
   "execution_count": 173,
   "metadata": {},
   "outputs": [
    {
     "name": "stdout",
     "output_type": "stream",
     "text": [
      "192\t168\t3\t1\t\n",
      "11000000\t10101000\t11000000\t10000000\t"
     ]
    }
   ],
   "source": [
    "ip = \"192.168.3.1\"\n",
    "tokens = ip.split(\".\") \n",
    "for t in tokens: \n",
    "    print (t, end='\\t')\n",
    "print()\n",
    "for t in tokens: \n",
    "    print ( \"{:08}\".format(bin(int(t))[2:]) , end ='\\t') \n"
   ]
  }
 ],
 "metadata": {
  "kernelspec": {
   "display_name": "myenv",
   "language": "python",
   "name": "python3"
  },
  "language_info": {
   "codemirror_mode": {
    "name": "ipython",
    "version": 3
   },
   "file_extension": ".py",
   "mimetype": "text/x-python",
   "name": "python",
   "nbconvert_exporter": "python",
   "pygments_lexer": "ipython3",
   "version": "3.11.3"
  },
  "orig_nbformat": 4
 },
 "nbformat": 4,
 "nbformat_minor": 2
}
