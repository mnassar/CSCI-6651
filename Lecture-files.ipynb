{
 "cells": [
  {
   "cell_type": "code",
   "execution_count": 17,
   "metadata": {},
   "outputs": [
    {
     "name": "stdout",
     "output_type": "stream",
     "text": [
      "!\n",
      "service timestamps debug datetime msec localtime show-timezone year\n",
      "service timestamps log datetime msec localtime show-timezone year\n",
      "service password-encryption\n",
      "service sequence-numbers\n",
      "!\n",
      "no ip domain lookup\n",
      "!\n",
      "ip ssh version 2\n",
      "!\n",
      "!\n",
      "service timestamps debug datetime msec localtime show-timezone year\n",
      "service timestamps log datetime msec localtime show-timezone year\n",
      "service password-encryption\n",
      "service sequence-numbers\n",
      "!\n",
      "no ip domain lookup\n",
      "!\n",
      "ip ssh version 2\n",
      "!\n"
     ]
    }
   ],
   "source": [
    "f = open(\"firstfile.txt\", 'r')\n",
    "\n",
    "for line in f.readlines(): \n",
    "    print (line.rstrip())\n",
    "# cursor at the end of file \n",
    "f.seek(0)\n",
    "print (f.read()) # read nothing \n"
   ]
  },
  {
   "cell_type": "code",
   "execution_count": 26,
   "metadata": {},
   "outputs": [],
   "source": [
    "cfg_lines= [\n",
    "'service timestamps debug datetime msec localtime show-timezone year',\n",
    " 'service timestamps log datetime msec localtime show-timezone year',\n",
    " 'service password-encryption',\n",
    " 'service sequence-numbers',\n",
    " '!',\n",
    " 'no ip domain lookup',\n",
    " '!',\n",
    " 'ip ssh version 2',\n",
    "]\n",
    "myfile = open (\"firstfile.txt\", \"w\")\n",
    "for line in cfg_lines: \n",
    "    myfile.write(line + \"\\n\") \n",
    "\n",
    "myfile.close() \n"
   ]
  },
  {
   "cell_type": "code",
   "execution_count": 27,
   "metadata": {},
   "outputs": [
    {
     "data": {
      "text/plain": [
       "True"
      ]
     },
     "execution_count": 27,
     "metadata": {},
     "output_type": "execute_result"
    }
   ],
   "source": [
    "myfile.closed"
   ]
  },
  {
   "cell_type": "code",
   "execution_count": 32,
   "metadata": {},
   "outputs": [],
   "source": [
    "with open(\"firstfile.txt\", 'r') as myfile, open(\"secondfile.txt\", 'w') as dest: \n",
    "    l = myfile.readlines()\n",
    "    # process l\n",
    "    for x in l: \n",
    "        x = \"# \" + x \n",
    "        dest.write(x)\n"
   ]
  },
  {
   "cell_type": "code",
   "execution_count": 35,
   "metadata": {},
   "outputs": [
    {
     "name": "stdout",
     "output_type": "stream",
     "text": [
      "['FastEthernet0/0', '15.0.15.1', 'YES', 'manual', 'up', 'up']\n"
     ]
    }
   ],
   "source": [
    "line = \"FastEthernet0/0 15.0.15.1 YES manual up up\".split() \n",
    "print (line )\n",
    "interface, address, *other = line # packing / unpacking "
   ]
  },
  {
   "cell_type": "code",
   "execution_count": 45,
   "metadata": {},
   "outputs": [
    {
     "data": {
      "text/plain": [
       "3"
      ]
     },
     "execution_count": 45,
     "metadata": {},
     "output_type": "execute_result"
    }
   ],
   "source": [
    "c = (1, 2) \n",
    "\n",
    "def f (a, b): \n",
    "    return a + b \n",
    "\n",
    "f(*c) # unpacking "
   ]
  }
 ],
 "metadata": {
  "kernelspec": {
   "display_name": "myenv",
   "language": "python",
   "name": "python3"
  },
  "language_info": {
   "codemirror_mode": {
    "name": "ipython",
    "version": 3
   },
   "file_extension": ".py",
   "mimetype": "text/x-python",
   "name": "python",
   "nbconvert_exporter": "python",
   "pygments_lexer": "ipython3",
   "version": "3.11.3"
  },
  "orig_nbformat": 4
 },
 "nbformat": 4,
 "nbformat_minor": 2
}
