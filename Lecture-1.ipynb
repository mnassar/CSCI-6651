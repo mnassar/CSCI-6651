{
 "cells": [
  {
   "cell_type": "code",
   "execution_count": 1,
   "metadata": {},
   "outputs": [
    {
     "name": "stdout",
     "output_type": "stream",
     "text": [
      "Hello World!\n",
      "Two is greater than one!\n"
     ]
    }
   ],
   "source": [
    "print (\"Hello World!\")\n",
    "\n",
    "#Prints the statement if the condition is true\n",
    "if 2 > 1:\n",
    "  print(\"Two is greater than one!\")"
   ]
  }
 ],
 "metadata": {
  "kernelspec": {
   "display_name": "myenv",
   "language": "python",
   "name": "python3"
  },
  "language_info": {
   "name": "python",
   "version": "3.9.13"
  },
  "orig_nbformat": 4
 },
 "nbformat": 4,
 "nbformat_minor": 2
}
