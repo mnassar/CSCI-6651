{
 "cells": [
  {
   "cell_type": "code",
   "execution_count": 2,
   "metadata": {},
   "outputs": [
    {
     "name": "stdout",
     "output_type": "stream",
     "text": [
      " A is not greater than B\n"
     ]
    }
   ],
   "source": [
    "# print (\"Hello World!\")\n",
    "\n",
    "# print(\"hi\")\n",
    "\n",
    "a = 5 \n",
    "b = 10 \n",
    "\n",
    "if a > b: # False \n",
    "    print(\"A is greater than B\") \n",
    "    \n",
    "else: \n",
    "    print (\" A is not greater than B\")\n",
    "\n"
   ]
  },
  {
   "cell_type": "code",
   "execution_count": 3,
   "metadata": {},
   "outputs": [],
   "source": [
    "# define the function \n",
    "def open_file(filename): \n",
    "    with open(filename) as f1: \n",
    "        print ( f1.read() ) \n",
    "    return \"Success! \""
   ]
  },
  {
   "cell_type": "code",
   "execution_count": 5,
   "metadata": {},
   "outputs": [
    {
     "name": "stdout",
     "output_type": "stream",
     "text": [
      "# CSCI-6651\n",
      "This is the github repository for the python scripting course CSCI 6651\n",
      "\n",
      "this also will be read by the function read_file \n",
      "\n",
      "Success! \n"
     ]
    }
   ],
   "source": [
    "result = open_file(\"README.md\")\n",
    "print (result)"
   ]
  },
  {
   "cell_type": "code",
   "execution_count": 11,
   "metadata": {},
   "outputs": [
    {
     "name": "stdout",
     "output_type": "stream",
     "text": [
      "3 5 endline hi\n"
     ]
    }
   ],
   "source": [
    "print (3, 5, end=\" endline \")\n",
    "print (\"hi\")"
   ]
  },
  {
   "cell_type": "code",
   "execution_count": 12,
   "metadata": {},
   "outputs": [
    {
     "data": {
      "text/plain": [
       "['In',\n",
       " 'Out',\n",
       " '_',\n",
       " '__',\n",
       " '___',\n",
       " '__builtin__',\n",
       " '__builtins__',\n",
       " '__doc__',\n",
       " '__loader__',\n",
       " '__name__',\n",
       " '__package__',\n",
       " '__spec__',\n",
       " '__vsc_ipynb_file__',\n",
       " '_dh',\n",
       " '_i',\n",
       " '_i1',\n",
       " '_i10',\n",
       " '_i11',\n",
       " '_i12',\n",
       " '_i2',\n",
       " '_i3',\n",
       " '_i4',\n",
       " '_i5',\n",
       " '_i6',\n",
       " '_i7',\n",
       " '_i8',\n",
       " '_i9',\n",
       " '_ih',\n",
       " '_ii',\n",
       " '_iii',\n",
       " '_oh',\n",
       " 'a',\n",
       " 'b',\n",
       " 'exit',\n",
       " 'get_ipython',\n",
       " 'open',\n",
       " 'open_file',\n",
       " 'quit',\n",
       " 'result']"
      ]
     },
     "execution_count": 12,
     "metadata": {},
     "output_type": "execute_result"
    }
   ],
   "source": [
    "dir() "
   ]
  },
  {
   "cell_type": "code",
   "execution_count": 13,
   "metadata": {},
   "outputs": [
    {
     "data": {
      "text/plain": [
       "'Success! '"
      ]
     },
     "execution_count": 13,
     "metadata": {},
     "output_type": "execute_result"
    }
   ],
   "source": [
    "result\n"
   ]
  },
  {
   "cell_type": "code",
   "execution_count": 15,
   "metadata": {},
   "outputs": [
    {
     "data": {
      "text/plain": [
       "3.8542756000000002"
      ]
     },
     "execution_count": 15,
     "metadata": {},
     "output_type": "execute_result"
    }
   ],
   "source": [
    "1.234 * 3.1234"
   ]
  },
  {
   "cell_type": "code",
   "execution_count": 16,
   "metadata": {},
   "outputs": [
    {
     "data": {
      "text/plain": [
       "4.8542756"
      ]
     },
     "execution_count": 16,
     "metadata": {},
     "output_type": "execute_result"
    }
   ],
   "source": [
    "_ + 1"
   ]
  },
  {
   "cell_type": "code",
   "execution_count": 17,
   "metadata": {},
   "outputs": [
    {
     "name": "stdout",
     "output_type": "stream",
     "text": [
      "print (\"Hello World!\")\n",
      "\n",
      "print(\"hi\")\n",
      "\n",
      "a = 5 \n",
      "b = 10 \n",
      "\n",
      "if a > b: # False \n",
      "    print(\"A is greater than B\") \n",
      "    \n",
      "else: \n",
      "    print (\" A is not greater than B\")\n",
      "\n",
      "print (\"End\")\n",
      "# print (\"Hello World!\")\n",
      "\n",
      "# print(\"hi\")\n",
      "\n",
      "a = 5 \n",
      "b = 10 \n",
      "\n",
      "if a > b: # False \n",
      "    print(\"A is greater than B\") \n",
      "    \n",
      "else: \n",
      "    print (\" A is not greater than B\")\n",
      "\n",
      "def open_file(filename): \n",
      "    with open(filename) as f1: \n",
      "        print ( f1.read() ) \n",
      "    return \"Success! \"\n",
      "result = open_file(\"README.md\")\n",
      "print (result)\n",
      "result = open_file(\"README.md\")\n",
      "print (result)\n",
      "print (3, 5)\n",
      "print (3, 5)\n",
      "print (\"hi\")\n",
      "print (3, 5, end=\"*\")\n",
      "print (\"hi\")\n",
      "print (3, 5, end=\" \")\n",
      "print (\"hi\")\n",
      "print (3, 5, end=\"\")\n",
      "print (\"hi\")\n",
      "print (3, 5, end=\" endline \")\n",
      "print (\"hi\")\n",
      "dir()\n",
      "result\n",
      "1 + 3\n",
      "1.234 * 3.1234\n",
      "_ + 1\n",
      "%history\n"
     ]
    }
   ],
   "source": [
    "%history"
   ]
  },
  {
   "cell_type": "code",
   "execution_count": 18,
   "metadata": {},
   "outputs": [
    {
     "name": "stdout",
     "output_type": "stream",
     "text": [
      "CPU times: user 4 µs, sys: 7 µs, total: 11 µs\n",
      "Wall time: 25 µs\n",
      "49999995000000\n"
     ]
    }
   ],
   "source": [
    "%time\n",
    "\n",
    "ans = 0 \n",
    "for i in range(10000000): \n",
    "    ans += i\n",
    "print (ans)"
   ]
  },
  {
   "cell_type": "code",
   "execution_count": 21,
   "metadata": {},
   "outputs": [
    {
     "name": "stdout",
     "output_type": "stream",
     "text": [
      "[1, 'abc', 3]\n"
     ]
    }
   ],
   "source": [
    "L = [1 , \"abc\", 3]\n",
    "print(L) "
   ]
  },
  {
   "cell_type": "code",
   "execution_count": 24,
   "metadata": {},
   "outputs": [
    {
     "name": "stdout",
     "output_type": "stream",
     "text": [
      "PING 142.250.81.238 (142.250.81.238): 56 data bytes\n",
      "64 bytes from 142.250.81.238: icmp_seq=0 ttl=116 time=17.395 ms\n",
      "64 bytes from 142.250.81.238: icmp_seq=1 ttl=116 time=21.858 ms\n",
      "64 bytes from 142.250.81.238: icmp_seq=2 ttl=116 time=18.671 ms\n",
      "\n",
      "--- 142.250.81.238 ping statistics ---\n",
      "3 packets transmitted, 3 packets received, 0.0% packet loss\n",
      "round-trip min/avg/max/stddev = 17.395/19.308/21.858/1.877 ms\n",
      "\n"
     ]
    }
   ],
   "source": [
    "import subprocess \n",
    "\n",
    "reply = subprocess.run(['ping', '-c', '3', '-n', \"142.250.81.238\"], \n",
    "                       stdout=subprocess.PIPE, \n",
    "                       stderr=subprocess.PIPE, \n",
    "                       encoding='ascii')\n",
    "# cout << \"hello\"\n",
    "# cerr << \"an error happened\"\n",
    "\n",
    "print (reply.stdout)\n",
    "\n",
    "#stdout='PING 142.250.81.238 (142.250.81.238): \n",
    "# 56 data bytes\\n64 bytes from 142.250.81.238: icmp_seq=0 ttl=116 time=20.531 ms\\n\n",
    "# 64 bytes from 142.250.81.238: icmp_seq=1 ttl=116 time=19.613 ms\\n\n",
    "# 64 bytes from 142.250.81.238: icmp_seq=2 ttl=116 time=20.237 ms\\n\\n\n",
    "# \n",
    "# --- 142.250.81.238 ping statistics ---\\n\n",
    "# 3 packets transmitted, 3 packets received, 0.0% packet loss\\n\n",
    "# round-trip min/avg/max/stddev = 19.613/20.127/20.531/0.383 ms\\n', \n",
    "# stderr='')"
   ]
  },
  {
   "attachments": {},
   "cell_type": "markdown",
   "metadata": {},
   "source": [
    "# Task \n",
    "\n",
    "Write a python script to lookup the IP address of google.com \n",
    "\n",
    "nslookup -q=txt google.com\n",
    "\n",
    "display the output "
   ]
  }
 ],
 "metadata": {
  "kernelspec": {
   "display_name": "myenv",
   "language": "python",
   "name": "python3"
  },
  "language_info": {
   "codemirror_mode": {
    "name": "ipython",
    "version": 3
   },
   "file_extension": ".py",
   "mimetype": "text/x-python",
   "name": "python",
   "nbconvert_exporter": "python",
   "pygments_lexer": "ipython3",
   "version": "3.11.3"
  },
  "orig_nbformat": 4
 },
 "nbformat": 4,
 "nbformat_minor": 2
}
