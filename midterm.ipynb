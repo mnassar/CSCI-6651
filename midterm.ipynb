{
 "cells": [
  {
   "attachments": {},
   "cell_type": "markdown",
   "metadata": {},
   "source": [
    "## Q1 \n",
    "\n",
    "TinyURL is a URL shortening service: The idea is simple, you enter a complete URL such as https://universityofnewhaven/design-tinyurl and it returns a short URL such as http://tinyurl.com/3f8iBm. Design a function to encode a URL and another function to decode a tiny URL.\n",
    " \n",
    "\n",
    "There is no restriction on how your encode/decode algorithm should work. You just need to ensure that a URL can be encoded to a tiny URL and the tiny URL can be decoded to the original URL.\n",
    "\n",
    " \n",
    "Implement the following methods\n",
    "\n",
    " \n",
    "- *def encode(longUrl): Returns a tiny URL for the given longUrl.*\n",
    "\n",
    "- *def decode(shortUrl) Returns the original long URL for the given shortUrl.*\n",
    " \n",
    "\n",
    "**Hint: you can use dictionaries to store the mappings**\n",
    "\n",
    "\n"
   ]
  },
  {
   "cell_type": "code",
   "execution_count": null,
   "metadata": {},
   "outputs": [],
   "source": [
    "def encode(longUrl):\n",
    "    pass\n",
    "\n",
    "def decode(shortUrl):\n",
    "    pass\n",
    "\n"
   ]
  },
  {
   "attachments": {},
   "cell_type": "markdown",
   "metadata": {},
   "source": [
    "## Q2 \n",
    "\n",
    "You are provided with an encryption function that takes a text in and a key. \n",
    "\n",
    "Your task is to develop the corresponding decryption function."
   ]
  },
  {
   "cell_type": "code",
   "execution_count": 19,
   "metadata": {},
   "outputs": [
    {
     "name": "stdout",
     "output_type": "stream",
     "text": [
      "['0x5c', '0x32', '0x20', '0x15', '0x33', '0x11', '0x2a', '0x1a', '0x78', '0x65', '0x39', '0xe', '0x61', '0x65', '0x2e', '0xe', '0x6e', '0x37', '0x77', '0x14', '0x6b', '0x24', '0x22', '0x59', '0x72', '0x39', '0x77', '0x5', '0x7b', '0x28', '0x77', '0x24', '0x65', '0x2c', '0x29', '0x14', '0x61', '0x36', '0x3e', '0x5', '0x6a', '0x65', '0x20', '0x17', '0x33', '0x13', '0x3a', '0x6', '0x33', '0xd', '0x36', '0x7', '0x7e', '0x33', '0x76']\n",
      "None\n"
     ]
    }
   ],
   "source": [
    "def encrypt(textIn, key): \n",
    "    textOut = list ( textIn ) \n",
    "    for i in range(len(textIn)):\n",
    "        textOut [i] = chr ( -~ ord( textIn [i] ) ) \n",
    "        textOut [i] = chr (ord (textOut[i]) + 3 ) \n",
    "        textOut [i] = chr ( 5 ^ key [i%4]  ^ ord ( textOut [i] ) )\n",
    "    return \"\".join(textOut)\n",
    "\n",
    "textOut = encrypt(\"Good Luck for your exam at the University of New Haven!\", [0x12, 0x44, 0x56, 0x78])\n",
    "print ([hex(ord(x)) for x in textOut]) \n",
    "\n",
    "def decrypt(textOut, key): \n",
    "    pass \n",
    "\n",
    "decryptedTextOut = decrypt(textOut, [0x12, 0x44, 0x56, 0x78])\n",
    "#this should print the original text: Good Luck for your exam at the University of New Haven!\n",
    "print (decryptedTextOut)\n",
    "\n",
    "\n",
    "\n",
    "  \n"
   ]
  },
  {
   "attachments": {},
   "cell_type": "markdown",
   "metadata": {},
   "source": [
    "## Q3\n",
    "This server reveives an array of bytes from a client, and does the sum of all the bytes. \n",
    "\n",
    "It returns the sum as a big-Endian unsigned integer over 4 bytes. \n",
    "\n",
    "Your task is to write the client side which sends the array of bytes, receives the sum over 4 bytes, and prints it to the screen as an integer.\n",
    "\n"
   ]
  },
  {
   "cell_type": "code",
   "execution_count": 97,
   "metadata": {},
   "outputs": [
    {
     "name": "stdout",
     "output_type": "stream",
     "text": [
      "Connected by ('127.0.0.1', 62214)\n",
      "89\n",
      "Connected by ('127.0.0.1', 62234)\n",
      "89\n"
     ]
    },
    {
     "ename": "KeyboardInterrupt",
     "evalue": "",
     "output_type": "error",
     "traceback": [
      "\u001b[0;31m---------------------------------------------------------------------------\u001b[0m",
      "\u001b[0;31mKeyboardInterrupt\u001b[0m                         Traceback (most recent call last)",
      "Cell \u001b[0;32mIn[97], line 10\u001b[0m\n\u001b[1;32m      8\u001b[0m s\u001b[39m.\u001b[39mlisten()\n\u001b[1;32m      9\u001b[0m \u001b[39mwhile\u001b[39;00m \u001b[39mTrue\u001b[39;00m: \n\u001b[0;32m---> 10\u001b[0m     conn, addr \u001b[39m=\u001b[39m s\u001b[39m.\u001b[39;49maccept()\n\u001b[1;32m     11\u001b[0m     \u001b[39mwith\u001b[39;00m conn:\n\u001b[1;32m     12\u001b[0m         \u001b[39mprint\u001b[39m(\u001b[39mf\u001b[39m\u001b[39m\"\u001b[39m\u001b[39mConnected by \u001b[39m\u001b[39m{\u001b[39;00maddr\u001b[39m}\u001b[39;00m\u001b[39m\"\u001b[39m)\n",
      "File \u001b[0;32m~/opt/anaconda3/envs/myenv/lib/python3.11/socket.py:294\u001b[0m, in \u001b[0;36msocket.accept\u001b[0;34m(self)\u001b[0m\n\u001b[1;32m    287\u001b[0m \u001b[39mdef\u001b[39;00m \u001b[39maccept\u001b[39m(\u001b[39mself\u001b[39m):\n\u001b[1;32m    288\u001b[0m \u001b[39m    \u001b[39m\u001b[39m\"\"\"accept() -> (socket object, address info)\u001b[39;00m\n\u001b[1;32m    289\u001b[0m \n\u001b[1;32m    290\u001b[0m \u001b[39m    Wait for an incoming connection.  Return a new socket\u001b[39;00m\n\u001b[1;32m    291\u001b[0m \u001b[39m    representing the connection, and the address of the client.\u001b[39;00m\n\u001b[1;32m    292\u001b[0m \u001b[39m    For IP sockets, the address info is a pair (hostaddr, port).\u001b[39;00m\n\u001b[1;32m    293\u001b[0m \u001b[39m    \"\"\"\u001b[39;00m\n\u001b[0;32m--> 294\u001b[0m     fd, addr \u001b[39m=\u001b[39m \u001b[39mself\u001b[39;49m\u001b[39m.\u001b[39;49m_accept()\n\u001b[1;32m    295\u001b[0m     sock \u001b[39m=\u001b[39m socket(\u001b[39mself\u001b[39m\u001b[39m.\u001b[39mfamily, \u001b[39mself\u001b[39m\u001b[39m.\u001b[39mtype, \u001b[39mself\u001b[39m\u001b[39m.\u001b[39mproto, fileno\u001b[39m=\u001b[39mfd)\n\u001b[1;32m    296\u001b[0m     \u001b[39m# Issue #7995: if no default timeout is set and the listening\u001b[39;00m\n\u001b[1;32m    297\u001b[0m     \u001b[39m# socket had a (non-zero) timeout, force the new socket in blocking\u001b[39;00m\n\u001b[1;32m    298\u001b[0m     \u001b[39m# mode to override platform-specific socket flags inheritance.\u001b[39;00m\n",
      "\u001b[0;31mKeyboardInterrupt\u001b[0m: "
     ]
    }
   ],
   "source": [
    "import socket\n",
    "\n",
    "HOST = \"127.0.0.1\"  # Standard loopback interface address (localhost)\n",
    "PORT = 65432  # Port to listen on (non-privileged ports are > 1023)\n",
    "\n",
    "with socket.socket(socket.AF_INET, socket.SOCK_STREAM) as s:\n",
    "    s.bind((HOST, PORT))\n",
    "    s.listen()\n",
    "    while True: \n",
    "        conn, addr = s.accept()\n",
    "        with conn:\n",
    "            print(f\"Connected by {addr}\")\n",
    "            data = conn.recv(1024)\n",
    "            a = sum(data)\n",
    "            print(a)\n",
    "            conn.sendall(a.to_bytes(4,'big'))\n",
    "            \n"
   ]
  },
  {
   "attachments": {},
   "cell_type": "markdown",
   "metadata": {},
   "source": [
    "## Q4 \n",
    "\n",
    "Convert the IP address in the ip variable to binary and print output in columns to stdout:\n",
    "\n",
    "- the first line must be decimal values (aligned to the right)\n",
    "\n",
    "- the second line is binary values\n",
    "\n",
    "The output should be ordered in the same way as in the example output below:\n",
    "\n",
    "- in columns\n",
    "\n",
    "- column width 12 characters (in binary you need to add 4 spaces between columns to separate\n",
    "octets among themselves)\n",
    "\n",
    "- decimal values aligned to the right of the binary values\n",
    "\n",
    "\n"
   ]
  },
  {
   "cell_type": "code",
   "execution_count": 2,
   "metadata": {},
   "outputs": [],
   "source": [
    "#Example output for address 10.1.1.1:\n",
    "#      10           1           1           1\n",
    "#00001010    00000001    00000001    00000001\n",
    "\n",
    "ip = \"192.168.3.1\"\n",
    "pass"
   ]
  }
 ],
 "metadata": {
  "kernelspec": {
   "display_name": "myenv",
   "language": "python",
   "name": "python3"
  },
  "language_info": {
   "codemirror_mode": {
    "name": "ipython",
    "version": 3
   },
   "file_extension": ".py",
   "mimetype": "text/x-python",
   "name": "python",
   "nbconvert_exporter": "python",
   "pygments_lexer": "ipython3",
   "version": "3.11.3"
  },
  "orig_nbformat": 4
 },
 "nbformat": 4,
 "nbformat_minor": 2
}
