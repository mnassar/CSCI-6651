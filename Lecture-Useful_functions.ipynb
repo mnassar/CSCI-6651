{
 "cells": [
  {
   "cell_type": "code",
   "execution_count": 2,
   "metadata": {},
   "outputs": [
    {
     "name": "stdout",
     "output_type": "stream",
     "text": [
      "hello world!\n",
      "[2, 5, 8, 11, 14, 17, 20, 23, 26, 29, 32, 35, 38, 41, 44, 47]\n"
     ]
    }
   ],
   "source": [
    "print ( \"hello world!\")\n",
    "r = range(2, 50, 3) # 2, 5, 8, 11, ...,\n",
    "\n",
    "\n",
    "print (list(r) )\n",
    " "
   ]
  },
  {
   "cell_type": "code",
   "execution_count": 6,
   "metadata": {},
   "outputs": [
    {
     "name": "stdout",
     "output_type": "stream",
     "text": [
      "[5, -1, 2, 5, 6] [-1, 2, 5, 5, 6]\n"
     ]
    },
    {
     "data": {
      "text/plain": [
       "6"
      ]
     },
     "execution_count": 6,
     "metadata": {},
     "output_type": "execute_result"
    }
   ],
   "source": [
    "L = [ 5, -1, 2, 5, 6]\n",
    "L1 = sorted(L) # create a new object \n",
    "print(L, L1) \n",
    "\n",
    "# lambda: function wich has no name \n",
    "f = lambda x: x * 2\n",
    "\n",
    "f(3)\n"
   ]
  }
 ],
 "metadata": {
  "kernelspec": {
   "display_name": "myenv",
   "language": "python",
   "name": "python3"
  },
  "language_info": {
   "codemirror_mode": {
    "name": "ipython",
    "version": 3
   },
   "file_extension": ".py",
   "mimetype": "text/x-python",
   "name": "python",
   "nbconvert_exporter": "python",
   "pygments_lexer": "ipython3",
   "version": "3.11.3"
  },
  "orig_nbformat": 4
 },
 "nbformat": 4,
 "nbformat_minor": 2
}
