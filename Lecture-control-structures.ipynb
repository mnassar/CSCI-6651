{
 "cells": [
  {
   "cell_type": "code",
   "execution_count": 3,
   "metadata": {},
   "outputs": [
    {
     "name": "stdout",
     "output_type": "stream",
     "text": [
      "never gonna happen\n"
     ]
    }
   ],
   "source": [
    "a = input() \n",
    "if a == \"y\": \n",
    "    print ( \"always true\")\n",
    "else: \n",
    "    print (\"never gonna happen\")"
   ]
  },
  {
   "cell_type": "code",
   "execution_count": 5,
   "metadata": {},
   "outputs": [
    {
     "name": "stdout",
     "output_type": "stream",
     "text": [
      "5\n",
      "6\n",
      "7\n",
      "8\n",
      "9\n",
      "10\n"
     ]
    }
   ],
   "source": [
    "# print all integers between 5 and 10 (inclusive)\n",
    "\n",
    "x = 5\n",
    "while (x <= 10):\n",
    "    print (x)\n",
    "    x += 1  \n",
    "\n"
   ]
  },
  {
   "cell_type": "code",
   "execution_count": 7,
   "metadata": {},
   "outputs": [
    {
     "name": "stdout",
     "output_type": "stream",
     "text": [
      "x - 2 is divisible by 3\n"
     ]
    }
   ],
   "source": [
    "# --------\n",
    "#   |----- 1\n",
    "#   |----- 2\n",
    "#   |----- 3\n",
    "x = int ( input () ) \n",
    "if x % 3 == 0: \n",
    "    print ( \" x is divisble by 3\")\n",
    "elif x % 3 == 1: \n",
    "    print (\" x - 1 is divisble by 3 \")\n",
    "else: # x % 3 == 2\n",
    "    print ( \"x - 2 is divisible by 3\")\n"
   ]
  },
  {
   "cell_type": "code",
   "execution_count": 15,
   "metadata": {},
   "outputs": [],
   "source": [
    "# object oriented programming \n",
    "import socket \n",
    "\n",
    "s = socket.socket() \n",
    "s = None \n",
    "if s: \n",
    "    print (\"hi\")"
   ]
  },
  {
   "cell_type": "code",
   "execution_count": 21,
   "metadata": {},
   "outputs": [
    {
     "data": {
      "text/plain": [
       "False"
      ]
     },
     "execution_count": 21,
     "metadata": {},
     "output_type": "execute_result"
    }
   ],
   "source": [
    "1 in [1,2,3]\n",
    "\n",
    "\"abs\" in \" abs bsd \"\n",
    "\n",
    "'a' in set(['a','b','c'])\n",
    "\n",
    "d = { 'a': 'alpha', 'b': 'beta'}\n",
    "\n",
    "'a' in d # true \n",
    "'c' in d # false "
   ]
  },
  {
   "cell_type": "code",
   "execution_count": 32,
   "metadata": {},
   "outputs": [
    {
     "name": "stdout",
     "output_type": "stream",
     "text": [
      "1\n",
      "2\n",
      "3\n",
      "4\n",
      "5\n",
      "6\n",
      "7\n",
      "8\n"
     ]
    }
   ],
   "source": [
    "for i in range(1,12): #range (start, stop, step)\n",
    "    # 1, 2, 3, 4, 5, 6, 7 ... \n",
    "    \n",
    "    pass # do nothing \n",
    "    if i == 9: \n",
    "        break\n",
    "    print (i)\n",
    "else: \n",
    "    print ( \"all number were printed\" ) \n",
    "\n",
    "\n"
   ]
  },
  {
   "cell_type": "code",
   "execution_count": 46,
   "metadata": {},
   "outputs": [
    {
     "name": "stdout",
     "output_type": "stream",
     "text": [
      "x - 2 is divisible by 3\n",
      "no exception happened\n",
      "exception happended or did not happen, either way I am gonna run\n"
     ]
    }
   ],
   "source": [
    "# exception handling \n",
    "try: \n",
    "    x =  5 \n",
    "    if x % 3 == 0: \n",
    "        print ( \" x is divisble by 3\")\n",
    "    elif x % 3 == 1: \n",
    "        print (\" x - 1 is divisble by 3 \")\n",
    "    else: # x % 3 == 2\n",
    "        print ( \"x - 2 is divisible by 3\")\n",
    "except (ValueError, TypeError): \n",
    "    print (\"exception happened\")\n",
    "else: \n",
    "    print (\"no exception happened\")\n",
    "finally: \n",
    "    print (\"exception happended or did not happen, either way I am gonna run\")\n",
    "\n",
    "# with open ('a.txt') as f: # file handling \n"
   ]
  },
  {
   "cell_type": "code",
   "execution_count": null,
   "metadata": {},
   "outputs": [],
   "source": [
    "# a mac address is 48 bits \n",
    "# 48/4 = 12 hex digits \n",
    "# 12 = 4 * 3 "
   ]
  },
  {
   "cell_type": "code",
   "execution_count": 57,
   "metadata": {},
   "outputs": [
    {
     "name": "stdout",
     "output_type": "stream",
     "text": [
      "['aabb.cc80.7000', 'aabb.dd80.7340', 'aabb.ee80.7000', 'aabb.ff80.7000']\n"
     ]
    }
   ],
   "source": [
    "# task 6.1 \n",
    "macs = [\"aabb:cc80:7000\", \"aabb:dd80:7340\", \"aabb:ee80:7000\", \"aabb:ff80:7000\"]\n",
    "l = len (macs)\n",
    "for i in range(l): \n",
    "    mac = macs.pop() \n",
    "    macs.insert(0, mac.replace(\":\",\".\"))\n",
    "print (macs)"
   ]
  },
  {
   "cell_type": "code",
   "execution_count": 15,
   "metadata": {},
   "outputs": [
    {
     "name": "stdout",
     "output_type": "stream",
     "text": [
      "interface FastEthernet 0/1\n",
      " switchport trunk encapsulation dot1q\n",
      " switchport mode trunk\n",
      " switchport trunk allowed vlan add 10,20,30,11\n",
      "interface FastEthernet 0/2\n",
      " switchport trunk encapsulation dot1q\n",
      " switchport mode trunk\n",
      " switchport trunk allowed vlan 11,30\n",
      "interface FastEthernet 0/4\n",
      " switchport trunk encapsulation dot1q\n",
      " switchport mode trunk\n",
      " switchport trunk allowed vlan remove 17\n"
     ]
    }
   ],
   "source": [
    "# task 6.3 \n",
    "\n",
    "access_template = [\n",
    "\"switchport mode access\",\n",
    "\"switchport access vlan\",\n",
    "\"spanning-tree portfast\",\n",
    "\"spanning-tree bpduguard enable\",\n",
    "]\n",
    "trunk_template = [\n",
    "\"switchport trunk encapsulation dot1q\",\n",
    "\"switchport mode trunk\",\n",
    "\"switchport trunk allowed vlan\",\n",
    "]\n",
    "\n",
    "access = {\"0/12\": \"10\", \"0/14\": \"11\", \"0/16\": \"17\", \"0/17\": \"150\"}\n",
    "\n",
    "trunk = {\"0/1\": [\"add\", \"10\", \"20\", \"30\", \"11\"], \"0/2\": [\"only\", \"11\", \"30\"], \"0/4\": [\"del\", \"17\"]}\n",
    "\n",
    "# for intf, vlan in access.items():\n",
    "#     print(\"interface FastEthernet\" + intf)\n",
    "#     for command in access_template:\n",
    "#         if command.endswith(\"access vlan\"):\n",
    "#             print(f\" {command} {vlan}\")\n",
    "#         else:\n",
    "#             print(f\" {command}\")\n",
    "\n",
    "# write similar code for the trunk items \n",
    "for (intf, cmd_list) in trunk.items(): # grab a pair of key and value \n",
    "    print (\"interface FastEthernet \" + intf)\n",
    "    for command in trunk_template:\n",
    "        \n",
    "        if \"vlan\" in command: \n",
    "            print(\" \" + command, end='') \n",
    "            val = trunk[intf]\n",
    "            if val[0] == \"add\": \n",
    "                print (\" add \", end = '') \n",
    "            elif val[0] == \"del\": \n",
    "                print (\" remove \", end ='')\n",
    "            elif val[0] == \"only\": \n",
    "                print (\" \", end='') \n",
    "            print (\",\".join(val[1:])) \n",
    "        else: \n",
    "            print(\" \" + command) \n",
    "\n",
    "\n",
    "         \n",
    "            "
   ]
  },
  {
   "cell_type": "code",
   "execution_count": 110,
   "metadata": {},
   "outputs": [
    {
     "name": "stdout",
     "output_type": "stream",
     "text": [
      "b'\\x00\\x00\\x00Y'\n",
      "Received 89\n"
     ]
    }
   ],
   "source": [
    "# echo-client.py\n",
    "\n",
    "import socket\n",
    "\n",
    "HOST = \"127.0.0.1\"  # The server's hostname or IP address\n",
    "PORT = 65432  # The port used by the server\n",
    "\n",
    "with socket.socket(socket.AF_INET, socket.SOCK_STREAM) as s:\n",
    "    s.connect((HOST, PORT))\n",
    "    s.sendall(bytearray([22,20,24,23]))\n",
    "    data = s.recv(4)\n",
    "    print (data)\n",
    "    data = int.from_bytes(data,'big')\n",
    "    print(f\"Received {data}\")"
   ]
  },
  {
   "cell_type": "code",
   "execution_count": 103,
   "metadata": {},
   "outputs": [
    {
     "ename": "TypeError",
     "evalue": "from_bytes() takes at most 2 positional arguments (3 given)",
     "output_type": "error",
     "traceback": [
      "\u001b[0;31m---------------------------------------------------------------------------\u001b[0m",
      "\u001b[0;31mTypeError\u001b[0m                                 Traceback (most recent call last)",
      "Cell \u001b[0;32mIn[103], line 3\u001b[0m\n\u001b[1;32m      1\u001b[0m data \u001b[39m=\u001b[39m \u001b[39mbytearray\u001b[39m([\u001b[39m1\u001b[39m,\u001b[39m2\u001b[39m,\u001b[39m3\u001b[39m,\u001b[39m4\u001b[39m,\u001b[39m5\u001b[39m,\u001b[39m6\u001b[39m,\u001b[39m6\u001b[39m])\n\u001b[0;32m----> 3\u001b[0m i \u001b[39m=\u001b[39m \u001b[39mint\u001b[39;49m\u001b[39m.\u001b[39;49mfrom_bytes(data,\u001b[39m4\u001b[39;49m,\u001b[39m'\u001b[39;49m\u001b[39mbig\u001b[39;49m\u001b[39m'\u001b[39;49m)\n\u001b[1;32m      4\u001b[0m \u001b[39mprint\u001b[39m (i)\n",
      "\u001b[0;31mTypeError\u001b[0m: from_bytes() takes at most 2 positional arguments (3 given)"
     ]
    }
   ],
   "source": [
    "data = bytearray([1,2,3,4,5,6,6])\n",
    "\n",
    "i = int.from_bytes(data,'big')\n",
    "print (i)\n"
   ]
  }
 ],
 "metadata": {
  "kernelspec": {
   "display_name": "myenv",
   "language": "python",
   "name": "python3"
  },
  "language_info": {
   "codemirror_mode": {
    "name": "ipython",
    "version": 3
   },
   "file_extension": ".py",
   "mimetype": "text/x-python",
   "name": "python",
   "nbconvert_exporter": "python",
   "pygments_lexer": "ipython3",
   "version": "3.11.3"
  },
  "orig_nbformat": 4
 },
 "nbformat": 4,
 "nbformat_minor": 2
}
